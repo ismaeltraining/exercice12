{
 "cells": [
  {
   "cell_type": "markdown",
   "id": "1458fc0f-5d30-4da2-9b30-29d3e6e4fa32",
   "metadata": {},
   "source": [
    "# Data Science Tools and Ecosystem"
   ]
  },
  {
   "cell_type": "markdown",
   "id": "ddc34b8e-8ebd-4e78-b044-4f3e42ac6d23",
   "metadata": {},
   "source": [
    "In this notebook, Data Science Tools and Ecosystem are summarized."
   ]
  },
  {
   "cell_type": "markdown",
   "id": "948a2e43-3842-474d-9801-8689d5f417d6",
   "metadata": {},
   "source": [
    "**Objectives:**\n",
    "\n",
    "- Explore and understand Data Science.\n",
    "- Identify libraries used for Data Science.\n",
    "- Provide examples of evaluating arithmetic expressions in Python.\n"
   ]
  },
  {
   "cell_type": "markdown",
   "id": "4e871ee8-dc6b-43bc-9c28-0b0c37a81102",
   "metadata": {},
   "source": [
    "Some of the popular languages that Data Scientists use are:\n",
    "1. Julia\n",
    "2. Python\n",
    "3. R"
   ]
  },
  {
   "cell_type": "markdown",
   "id": "751d95fc-ac72-4919-8109-a978cb1e2719",
   "metadata": {},
   "source": [
    "Some of the commonly used libraries used by Data Scientists include:\n",
    "1. numpy\n",
    "2. scipy\n",
    "3. Pandas\n",
    "4. Matplotlib\n",
    "5. scikit-learn\n"
   ]
  },
  {
   "cell_type": "markdown",
   "id": "8947e809-ff0d-4a6d-bc44-719e7423379d",
   "metadata": {},
   "source": [
    "| Data Science Tools |\n",
    "| ------------------ |\n",
    "| Jupyter Notebooks |\n",
    "| RStudio |\n",
    "| VS Code |"
   ]
  },
  {
   "cell_type": "markdown",
   "id": "c61c6537-9798-42a7-bbdd-4da43b51b1be",
   "metadata": {},
   "source": [
    "### Below are a few examples of evaluating arithmetic expressions in Python:\n",
    "\n",
    "**1. Addition:** a = 9+15\n",
    "\n",
    "**2. Subtraction:** a = 26-5\n",
    "\n",
    "**3. Multiplication:** a = 8*7\n",
    "\n",
    "**4. Division:** a = 15/3"
   ]
  },
  {
   "cell_type": "code",
   "execution_count": 2,
   "id": "74553a87-9132-4166-b524-e551991912ff",
   "metadata": {},
   "outputs": [
    {
     "data": {
      "text/plain": [
       "17"
      ]
     },
     "execution_count": 2,
     "metadata": {},
     "output_type": "execute_result"
    }
   ],
   "source": [
    "# This a simple arithmetic expression to mutiply then add integers\n",
    "(3*4)+5"
   ]
  },
  {
   "cell_type": "code",
   "execution_count": 4,
   "id": "97059310-5c05-4064-9fc8-86ebf0daf9e9",
   "metadata": {},
   "outputs": [
    {
     "data": {
      "text/plain": [
       "3.3333333333333335"
      ]
     },
     "execution_count": 4,
     "metadata": {},
     "output_type": "execute_result"
    }
   ],
   "source": [
    "# This will convert 200 minutes to hours by diving by 60\n",
    "200 / 60\n"
   ]
  },
  {
   "cell_type": "markdown",
   "id": "f74efc92-827f-4dc5-bda8-075daae406fb",
   "metadata": {},
   "source": [
    "## Author\n",
    "Ismael Moumen"
   ]
  },
  {
   "cell_type": "code",
   "execution_count": null,
   "id": "5e81a018-2efb-4950-b3e3-33eef6ad76e6",
   "metadata": {},
   "outputs": [],
   "source": []
  }
 ],
 "metadata": {
  "kernelspec": {
   "display_name": "Python 3 (ipykernel)",
   "language": "python",
   "name": "python3"
  },
  "language_info": {
   "codemirror_mode": {
    "name": "ipython",
    "version": 3
   },
   "file_extension": ".py",
   "mimetype": "text/x-python",
   "name": "python",
   "nbconvert_exporter": "python",
   "pygments_lexer": "ipython3",
   "version": "3.9.12"
  }
 },
 "nbformat": 4,
 "nbformat_minor": 5
}
